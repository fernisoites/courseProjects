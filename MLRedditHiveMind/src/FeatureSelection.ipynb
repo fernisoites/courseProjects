{
 "cells": [
  {
   "cell_type": "code",
   "execution_count": 78,
   "metadata": {
    "collapsed": true
   },
   "outputs": [],
   "source": [
    "%matplotlib inline\n",
    "import matplotlib.pyplot as plt\n",
    "import numpy as np\n",
    "import pandas as pd\n",
    "import pickle"
   ]
  },
  {
   "cell_type": "code",
   "execution_count": 79,
   "metadata": {
    "collapsed": false
   },
   "outputs": [],
   "source": [
    "#load all data\n",
    "china = pickle.load(open('chinaData.pickle','rt'))\n",
    "america = pickle.load(open('americaData.pickle','rt'))\n",
    "isis = pickle.load(open('ISIS_Data.pickle','rt'))\n",
    "\n",
    "obama = pickle.load(open('ObamaData.pickle','rt'))\n",
    "sanders = pickle.load(open('SandersData.pickle','rt'))\n",
    "reps = pickle.load(open('RepublicansData.pickle','rt'))\n",
    "\n",
    "apple = pickle.load(open('AppleData.pickle','rt'))\n",
    "windows = pickle.load(open('WindowsData.pickle','rt'))\n",
    "tesla = pickle.load(open('TeslaData.pickle','rt'))\n",
    "\n",
    "#defining array of dataframes\n",
    "df = [china, america, isis, obama, sanders, reps, apple, windows, tesla]\n",
    "dfNames = [\"China\", \"America\", \"ISIS\", \"Obama\", \"Sanders\", \"Republicans\", \"Apple\",\n",
    "          \"Windows\", \"Tesla\"]"
   ]
  },
  {
   "cell_type": "code",
   "execution_count": 81,
   "metadata": {
    "collapsed": false
   },
   "outputs": [
    {
     "name": "stdout",
     "output_type": "stream",
     "text": [
      "overallPol\n",
      "stdPol\n",
      "overallSub\n",
      "stdSub\n",
      "polRange\n",
      "subRange\n",
      "wordCount\n",
      "bigWords\n",
      "sentLen\n",
      "targetPol\n",
      "targetSub\n",
      "(2452, 12)\n"
     ]
    },
    {
     "name": "stderr",
     "output_type": "stream",
     "text": [
      "/usr/lib64/python2.7/site-packages/sklearn/preprocessing/data.py:583: DeprecationWarning: Passing 1d arrays as data is deprecated in 0.17 and will raise ValueError in 0.19. Reshape your data either using X.reshape(-1, 1) if your data has a single feature or X.reshape(1, -1) if it contains a single sample.\n",
      "  warnings.warn(DEPRECATION_MSG_1D, DeprecationWarning)\n",
      "/usr/lib64/python2.7/site-packages/sklearn/preprocessing/data.py:646: DeprecationWarning: Passing 1d arrays as data is deprecated in 0.17 and will raise ValueError in 0.19. Reshape your data either using X.reshape(-1, 1) if your data has a single feature or X.reshape(1, -1) if it contains a single sample.\n",
      "  warnings.warn(DEPRECATION_MSG_1D, DeprecationWarning)\n"
     ]
    },
    {
     "name": "stdout",
     "output_type": "stream",
     "text": [
      "[ 0.2854  0.0068  0.2265  0.1519  0.001   0.0064  0.0145  0.0153  0.2358\n",
      "  0.0204  0.0071  0.0289]\n",
      " 1) overallPol                     0.285400\n",
      " 2) stdPol                         0.006800\n",
      " 3) overallSub                     0.226500\n",
      " 4) stdSub                         0.151900\n",
      " 5) polRange                       0.001000\n",
      " 6) subRange                       0.006400\n",
      " 7) wordCount                      0.014500\n",
      " 8) bigWords                       0.015300\n",
      " 9) sentLen                        0.235800\n",
      "10) targetPol                      0.020400\n",
      "11) targetSub                      0.007100\n",
      "12) Random                         0.028900\n"
     ]
    },
    {
     "data": {
      "image/png": "[encoded data removed]",
      "text/plain": [
       "<matplotlib.figure.Figure at 0x7f5b3256aa50>"
      ]
     },
     "metadata": {},
     "output_type": "display_data"
    },
    {
     "data": {
      "image/png": "[encoded data removed]",
      "text/plain": [
       "<matplotlib.figure.Figure at 0x7f5b32928290>"
      ]
     },
     "metadata": {},
     "output_type": "display_data"
    }
   ],
   "source": [
    "from sklearn.cross_validation import train_test_split\n",
    "from sklearn.preprocessing import StandardScaler\n",
    "from sklearn.ensemble import RandomForestRegressor\n",
    "\n",
    "feat_labels = np.array(df[0].columns[1:])\n",
    "xNames = []\n",
    "for i in range(len(feat_labels)):\n",
    "    if not 'score' in str(feat_labels[i]):\n",
    "        print feat_labels[i]\n",
    "        xNames.append(feat_labels[i])\n",
    "\n",
    "y = df[0]['score'].values\n",
    "x = df[0][xNames].values\n",
    "\n",
    "y = np.array(y,dtype='float64')\n",
    "x = np.array(x,dtype='float64')\n",
    "\n",
    "randomData = np.transpose(np.array([np.random.rand(len(x))]))\n",
    "x = np.append(x,randomData,axis=1)\n",
    "xNames.append(\"Random\")\n",
    "\n",
    "print np.shape(x)\n",
    "\n",
    "#scaling inputs and outputs\n",
    "scy = StandardScaler()\n",
    "scx = StandardScaler()\n",
    "scy = scy.fit(y)\n",
    "scx = scx.fit(x)\n",
    "x = scx.transform(x)\n",
    "y = scy.transform(y)\n",
    "\n",
    "#split data into training and testing data\n",
    "x_train, x_test, y_train, y_test = train_test_split(x,y,test_size=0.40, random_state=1)\n",
    "forest = RandomForestRegressor(n_estimators=10000,max_depth=1,random_state=1,n_jobs=-1)\n",
    "\n",
    "#fit to the random forest regressor\n",
    "forest.fit(x_train, y_train)\n",
    "\n",
    "#show results\n",
    "importances = forest.feature_importances_\n",
    "print importances\n",
    "for f in range (x_train.shape[1]):\n",
    "    print(\"%2d) %-*s %f\" % (f + 1, 30,\n",
    "                           xNames[f],\n",
    "                           importances[f]))\n",
    "plt.title('Feature Importances')\n",
    "plt.bar(range(x_train.shape[1]),\n",
    "       importances,color='lightblue',align='center')\n",
    "plt.xticks(range(x_train.shape[1]),\n",
    "         xNames, rotation=90)\n",
    "plt.xlim([-1, x_train.shape[1]])\n",
    "plt.tight_layout()\n",
    "plt.show()\n",
    "\n",
    "plt.figure()\n",
    "\n",
    "importances = forest.feature_importances_\n",
    "indices = np.argsort(importances)[::-1]\n",
    "orderedLabels = [xNames[i] for i in indices]\n",
    "plt.title('Feature Importances')\n",
    "plt.bar(range(x_train.shape[1]),\n",
    "       importances[indices],color='lightblue',align='center')\n",
    "plt.xticks(range(x_train.shape[1]),\n",
    "         orderedLabels, rotation=90)\n",
    "plt.xlim([-1, x_train.shape[1]])\n",
    "plt.tight_layout()\n",
    "#plt.savefig('attributeSelection.png')\n",
    "plt.show()"
   ]
  },
  {
   "cell_type": "code",
   "execution_count": null,
   "metadata": {
    "collapsed": true
   },
   "outputs": [],
   "source": []
  },
  {
   "cell_type": "code",
   "execution_count": null,
   "metadata": {
    "collapsed": true
   },
   "outputs": [],
   "source": []
  },
  {
   "cell_type": "code",
   "execution_count": null,
   "metadata": {
    "collapsed": true
   },
   "outputs": [],
   "source": []
  },
  {
   "cell_type": "code",
   "execution_count": null,
   "metadata": {
    "collapsed": true
   },
   "outputs": [],
   "source": []
  },
  {
   "cell_type": "code",
   "execution_count": null,
   "metadata": {
    "collapsed": true
   },
   "outputs": [],
   "source": []
  }
 ],
 "metadata": {
  "kernelspec": {
   "display_name": "Python 2",
   "language": "python",
   "name": "python2"
  },
  "language_info": {
   "codemirror_mode": {
    "name": "ipython",
    "version": 2
   },
   "file_extension": ".py",
   "mimetype": "text/x-python",
   "name": "python",
   "nbconvert_exporter": "python",
   "pygments_lexer": "ipython2",
   "version": "2.7.10"
  }
 },
 "nbformat": 4,
 "nbformat_minor": 0
}
