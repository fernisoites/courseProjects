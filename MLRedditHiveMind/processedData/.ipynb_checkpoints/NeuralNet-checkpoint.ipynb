{
 "cells": [
  {
   "cell_type": "code",
   "execution_count": 2,
   "metadata": {
    "collapsed": true
   },
   "outputs": [],
   "source": [
    "%matplotlib inline\n",
    "import matplotlib.pyplot as plt\n",
    "import pandas as pd\n",
    "import numpy as np\n",
    "import pickle"
   ]
  },
  {
   "cell_type": "code",
   "execution_count": 27,
   "metadata": {
    "collapsed": false
   },
   "outputs": [
    {
     "name": "stderr",
     "output_type": "stream",
     "text": [
      "/usr/lib64/python2.7/site-packages/sklearn/utils/validation.py:420: DataConversionWarning: Data with input dtype object was converted to float64 by StandardScaler.\n",
      "  warnings.warn(msg, DataConversionWarning)\n",
      "/usr/lib64/python2.7/site-packages/sklearn/preprocessing/data.py:583: DeprecationWarning: Passing 1d arrays as data is deprecated in 0.17 and will raise ValueError in 0.19. Reshape your data either using X.reshape(-1, 1) if your data has a single feature or X.reshape(1, -1) if it contains a single sample.\n",
      "  warnings.warn(DEPRECATION_MSG_1D, DeprecationWarning)\n",
      "/usr/lib64/python2.7/site-packages/sklearn/utils/validation.py:420: DataConversionWarning: Data with input dtype object was converted to float64 by StandardScaler.\n",
      "  warnings.warn(msg, DataConversionWarning)\n",
      "/usr/lib64/python2.7/site-packages/sklearn/utils/validation.py:420: DataConversionWarning: Data with input dtype object was converted to float64 by StandardScaler.\n",
      "  warnings.warn(msg, DataConversionWarning)\n",
      "/usr/lib64/python2.7/site-packages/sklearn/utils/validation.py:420: DataConversionWarning: Data with input dtype object was converted to float64 by StandardScaler.\n",
      "  warnings.warn(msg, DataConversionWarning)\n",
      "/usr/lib64/python2.7/site-packages/sklearn/preprocessing/data.py:646: DeprecationWarning: Passing 1d arrays as data is deprecated in 0.17 and will raise ValueError in 0.19. Reshape your data either using X.reshape(-1, 1) if your data has a single feature or X.reshape(1, -1) if it contains a single sample.\n",
      "  warnings.warn(DEPRECATION_MSG_1D, DeprecationWarning)\n"
     ]
    },
    {
     "data": {
      "text/plain": [
       "<function matplotlib.pyplot.show>"
      ]
     },
     "execution_count": 27,
     "metadata": {},
     "output_type": "execute_result"
    },
    {
     "data": {
      "image/png": "[encoded data removed]",
      "text/plain": [
       "<matplotlib.figure.Figure at 0x7f49783a9d90>"
      ]
     },
     "metadata": {},
     "output_type": "display_data"
    }
   ],
   "source": [
    "#read data\n",
    "files = ['americaData', 'AppleData', 'chinaData', 'ISIS_Data','ObamaData','RepublicansData','SandersData','TeslaData','WindowsData'];\n",
    "\n",
    "from sklearn import preprocessing\n",
    "from sklearn.metrics import accuracy_score\n",
    "from sklearn.metrics import mean_squared_error\n",
    "\n",
    "def noNeutrals(dataframe):\n",
    "    data=dataframe.overallPol\n",
    "    drop = np.array([i for i in range(len(dataframe.body)) if(data[i]==0)])\n",
    "    newDf = dataframe.drop(drop)\n",
    "    newDf.reset_index(drop=True,inplace=True)#resets index\n",
    "    return newDf\n",
    "\n",
    "def readData(file_name):\n",
    "    dataFrame = pickle.load(open(file_name + \".pickle\",'rt'))\n",
    "    #dataFrame.columns = ['body', 'score', 'overallpol','stdPol', 'overallSub', 'stdSub', 'polRange',>\n",
    "    dataFrame = noNeutrals(dataFrame)\n",
    "    y = dataFrame['score'].values\n",
    "    x = dataFrame[['overallPol', 'stdSub', 'overallSub', 'sentLen']].values\n",
    "    return y, x\n",
    "\n",
    "j=2\n",
    "\n",
    "y, x = readData(files[j])\n",
    "\n",
    "y_np = np.array(y)\n",
    "x_np = np.array(x)\n",
    "# standard normalization\n",
    "from sklearn.preprocessing import StandardScaler\n",
    "scy = StandardScaler()\n",
    "scx = StandardScaler()\n",
    "scy = scy.fit(y)\n",
    "scx = scx.fit(x)\n",
    "X = scx.transform(x)\n",
    "Y = scy.transform(y)\n",
    "#X.reshape(-1, 1)\n",
    "#Y.reshape(-1, 1)\n",
    "#X = preprocessing.scale(x_np)\n",
    "#Y = preprocessing.scale(y_np)\n",
    "######################################\n",
    "#setup the dataset (supervised classification training) for neural network\n",
    "######################################\n",
    "from pybrain.utilities import percentError\n",
    "from pybrain.tools.shortcuts import buildNetwork\n",
    "from pybrain.supervised.trainers import BackpropTrainer\n",
    "from pybrain.structure.modules import SoftmaxLayer\n",
    "from pybrain.datasets.classification import ClassificationDataSet\n",
    "from pybrain.datasets import SupervisedDataSet\n",
    "\n",
    "ds = SupervisedDataSet(4, 1)\n",
    "for i in range(len(X)):\n",
    "    ds.addSample(X[i], Y[i])\n",
    "# #split the dataset\n",
    "trainData, testData = ds.splitWithProportion(0.60)\n",
    "\n",
    "# ###################################\n",
    "# #Creating a Neural Network\n",
    "# ###################################\n",
    "# # build nerual net with 4 inputs, 5 hidden neuron and 1 output neuron\n",
    "net = buildNetwork(4,3,1,bias=True)\n",
    "trainer = BackpropTrainer(net, trainData, learningrate=0.0001, momentum=0.1)\n",
    "\n",
    "trainRMS=[]\n",
    "testRMS=[]\n",
    "numEpochs = [i*1 for i in range(13)]\n",
    "\n",
    "train_out = net.activateOnDataset(trainData)\n",
    "train_mse = mean_squared_error(trainData['target'], train_out)\n",
    "test_out = net.activateOnDataset(testData)\n",
    "test_mse = mean_squared_error(testData['target'], test_out)\n",
    "\n",
    "trainRMS.append(train_mse)\n",
    "testRMS.append(test_mse)\n",
    "\n",
    "for i in range(12):\n",
    "    train_error = trainer.trainEpochs(1)\n",
    "\n",
    "    train_out = net.activateOnDataset(trainData)\n",
    "    train_mse = mean_squared_error(trainData['target'], train_out)\n",
    "    test_out = net.activateOnDataset(testData)\n",
    "    test_mse = mean_squared_error(testData['target'], test_out)\n",
    "\n",
    "    trainRMS.append(train_mse)\n",
    "    testRMS.append(test_mse)\n",
    "\n",
    "plt.plot(numEpochs,trainRMS,label='train')\n",
    "plt.plot(numEpochs,testRMS,label='test')\n",
    "plt.xlabel('Number of Epochs')\n",
    "plt.ylabel('RMS Error')\n",
    "plt.legend()\n",
    "plt.show\n"
   ]
  },
  {
   "cell_type": "code",
   "execution_count": null,
   "metadata": {
    "collapsed": true
   },
   "outputs": [],
   "source": []
  },
  {
   "cell_type": "code",
   "execution_count": null,
   "metadata": {
    "collapsed": true
   },
   "outputs": [],
   "source": []
  },
  {
   "cell_type": "code",
   "execution_count": null,
   "metadata": {
    "collapsed": true
   },
   "outputs": [],
   "source": []
  },
  {
   "cell_type": "code",
   "execution_count": null,
   "metadata": {
    "collapsed": true
   },
   "outputs": [],
   "source": []
  },
  {
   "cell_type": "code",
   "execution_count": null,
   "metadata": {
    "collapsed": true
   },
   "outputs": [],
   "source": []
  },
  {
   "cell_type": "code",
   "execution_count": null,
   "metadata": {
    "collapsed": true
   },
   "outputs": [],
   "source": []
  }
 ],
 "metadata": {
  "kernelspec": {
   "display_name": "Python 2",
   "language": "python",
   "name": "python2"
  },
  "language_info": {
   "codemirror_mode": {
    "name": "ipython",
    "version": 2
   },
   "file_extension": ".py",
   "mimetype": "text/x-python",
   "name": "python",
   "nbconvert_exporter": "python",
   "pygments_lexer": "ipython2",
   "version": "2.7.10"
  }
 },
 "nbformat": 4,
 "nbformat_minor": 0
}
