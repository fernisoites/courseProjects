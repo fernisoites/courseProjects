{
 "cells": [
  {
   "cell_type": "code",
   "execution_count": 9,
   "metadata": {
    "collapsed": true
   },
   "outputs": [],
   "source": [
    "%matplotlib inline\n",
    "import matplotlib.pyplot as plt\n",
    "import pandas as pd\n",
    "import numpy as np\n",
    "import pickle"
   ]
  },
  {
   "cell_type": "code",
   "execution_count": 10,
   "metadata": {
    "collapsed": false
   },
   "outputs": [
    {
     "ename": "IOError",
     "evalue": "[Errno 2] No such file or directory: 'chinaData.pickle'",
     "output_type": "error",
     "traceback": [
      "\u001b[1;31m---------------------------------------------------------------------------\u001b[0m",
      "\u001b[1;31mIOError\u001b[0m                                   Traceback (most recent call last)",
      "\u001b[1;32m<ipython-input-10-8d7105bcc957>\u001b[0m in \u001b[0;36m<module>\u001b[1;34m()\u001b[0m\n\u001b[0;32m     11\u001b[0m     \u001b[1;32mreturn\u001b[0m \u001b[0my\u001b[0m\u001b[1;33m,\u001b[0m \u001b[0mx\u001b[0m\u001b[1;33m\u001b[0m\u001b[0m\n\u001b[0;32m     12\u001b[0m \u001b[1;33m\u001b[0m\u001b[0m\n\u001b[1;32m---> 13\u001b[1;33m \u001b[0my\u001b[0m\u001b[1;33m,\u001b[0m \u001b[0mx\u001b[0m \u001b[1;33m=\u001b[0m \u001b[0mreadData\u001b[0m\u001b[1;33m(\u001b[0m\u001b[0mfiles\u001b[0m\u001b[1;33m[\u001b[0m\u001b[1;36m2\u001b[0m\u001b[1;33m]\u001b[0m\u001b[1;33m)\u001b[0m\u001b[1;33m\u001b[0m\u001b[0m\n\u001b[0m\u001b[0;32m     14\u001b[0m \u001b[1;33m\u001b[0m\u001b[0m\n\u001b[0;32m     15\u001b[0m '''\n",
      "\u001b[1;32m<ipython-input-10-8d7105bcc957>\u001b[0m in \u001b[0;36mreadData\u001b[1;34m(file_name)\u001b[0m\n\u001b[0;32m      5\u001b[0m \u001b[1;33m\u001b[0m\u001b[0m\n\u001b[0;32m      6\u001b[0m \u001b[1;32mdef\u001b[0m \u001b[0mreadData\u001b[0m\u001b[1;33m(\u001b[0m\u001b[0mfile_name\u001b[0m\u001b[1;33m)\u001b[0m\u001b[1;33m:\u001b[0m\u001b[1;33m\u001b[0m\u001b[0m\n\u001b[1;32m----> 7\u001b[1;33m     \u001b[0mdataFrame\u001b[0m \u001b[1;33m=\u001b[0m \u001b[0mpickle\u001b[0m\u001b[1;33m.\u001b[0m\u001b[0mload\u001b[0m\u001b[1;33m(\u001b[0m\u001b[0mopen\u001b[0m\u001b[1;33m(\u001b[0m\u001b[0mfile_name\u001b[0m \u001b[1;33m+\u001b[0m \u001b[1;34m\".pickle\"\u001b[0m\u001b[1;33m,\u001b[0m\u001b[1;34m'rt'\u001b[0m\u001b[1;33m)\u001b[0m\u001b[1;33m)\u001b[0m\u001b[1;33m\u001b[0m\u001b[0m\n\u001b[0m\u001b[0;32m      8\u001b[0m     \u001b[1;31m#dataFrame.columns = ['body', 'score', 'overallpol','stdPol', 'overallSub', 'stdSub', 'polRange',>\u001b[0m\u001b[1;33m\u001b[0m\u001b[1;33m\u001b[0m\u001b[0m\n\u001b[0;32m      9\u001b[0m     \u001b[0my\u001b[0m \u001b[1;33m=\u001b[0m \u001b[0mdataFrame\u001b[0m\u001b[1;33m[\u001b[0m\u001b[1;34m'score'\u001b[0m\u001b[1;33m]\u001b[0m\u001b[1;33m.\u001b[0m\u001b[0mvalues\u001b[0m\u001b[1;33m\u001b[0m\u001b[0m\n",
      "\u001b[1;31mIOError\u001b[0m: [Errno 2] No such file or directory: 'chinaData.pickle'"
     ]
    }
   ],
   "source": [
    "#read data\n",
    "files = ['americaData', 'AppleData', 'chinaData', 'ISIS_Data','ObamaData','RepublicansData','SandersData','TeslaData','WindowsData'];\n",
    "\n",
    "from sklearn import preprocessing\n",
    "\n",
    "def readData(file_name):\n",
    "    dataFrame = pickle.load(open(file_name + \".pickle\",'rt'))\n",
    "    #dataFrame.columns = ['body', 'score', 'overallpol','stdPol', 'overallSub', 'stdSub', 'polRange',>\n",
    "    y = dataFrame['score'].values\n",
    "    x = dataFrame[['overallpol', 'stdSub', 'overallSub', 'sentLen']].values\n",
    "    return y, x\n",
    "\n",
    "y, x = readData(files[2])\n",
    "\n",
    "'''\n",
    "y_np = np.array(y)\n",
    "x_np = np.array(x)\n",
    "# standard normalization\n",
    "# from sklearn.preprocessing import StandardScaler\n",
    "# scy = StandardScaler()\n",
    "# scx = StandardScaler()\n",
    "# scy = scy.fit(y)\n",
    "# scx = scx.fit(x)\n",
    "# X = scx.transform(x)\n",
    "# Y = scy.transform(y)\n",
    "# X.reshape(-1, 1)\n",
    "# Y.reshape(-1, 1)\n",
    "X = preprocessing.scale(x_np)\n",
    "Y = preprocessing.scale(y_np)\n",
    "######################################\n",
    "#setup the dataset (supervised classification training) for neural network\n",
    "######################################\n",
    "from pybrain.utilities import percentError\n",
    "from pybrain.tools.shortcuts import buildNetwork\n",
    "from pybrain.supervised.trainers import BackpropTrainer\n",
    "from pybrain.structure.modules import SoftmaxLayer\n",
    "from pybrain.datasets.classification import ClassificationDataSet\n",
    "from pybrain.datasets import SupervisedDataSet\n",
    "\n",
    "ds = SupervisedDataSet(4, 1)\n",
    "for i in range(len(X)):\n",
    "    ds.addSample(X[i], Y[i])\n",
    "# #split the dataset\n",
    "trainData, testData = ds.splitWithProportion(0.60)\n",
    "\n",
    "# ###################################\n",
    "# #Creating a Neural Network\n",
    "# ###################################\n",
    "# # build nerual net with 4 inputs, 5 hidden neuron and 1 output neuron\n",
    "net = buildNetwork(4,5,1,bias=True)\n",
    "trainer = BackpropTrainer(net, trainData)\n",
    "train_error = trainer.trainUntilConvergence(dataset = trainData, maxEpochs = 50)\n",
    "\n",
    "# #evaluate the error rate on training data\n",
    "from sklearn.metrics import accuracy_score\n",
    "from sklearn.metrics import mean_squared_error\n",
    "train_out = net.activateOnDataset(trainData) #return the output\n",
    "\n",
    "\n",
    "#encodeData(train_out, trainData['target'])\n",
    "#calculate the error\n",
    "train_error = percentError( train_out, trainData['target'])\n",
    "train_mse = mean_squared_error(trainData['target'], train_out)\n",
    "test_out = net.activateOnDataset(testData)\n",
    "test_error = percentError( test_out, testData['target'])\n",
    "test_mse = mean_squared_error(testData['target'], test_out)\n",
    "print files[j] + 'neural network traindata MSE %.2f' % (train_mse)\n",
    "print files[j] + 'neural network testdata MSE %.2f' % (test_mse)\n",
    "'''\n",
    "print y"
   ]
  },
  {
   "cell_type": "code",
   "execution_count": null,
   "metadata": {
    "collapsed": true
   },
   "outputs": [],
   "source": []
  },
  {
   "cell_type": "code",
   "execution_count": null,
   "metadata": {
    "collapsed": true
   },
   "outputs": [],
   "source": []
  },
  {
   "cell_type": "code",
   "execution_count": null,
   "metadata": {
    "collapsed": true
   },
   "outputs": [],
   "source": []
  },
  {
   "cell_type": "code",
   "execution_count": null,
   "metadata": {
    "collapsed": true
   },
   "outputs": [],
   "source": []
  },
  {
   "cell_type": "code",
   "execution_count": null,
   "metadata": {
    "collapsed": true
   },
   "outputs": [],
   "source": []
  },
  {
   "cell_type": "code",
   "execution_count": null,
   "metadata": {
    "collapsed": true
   },
   "outputs": [],
   "source": []
  }
 ],
 "metadata": {
  "kernelspec": {
   "display_name": "Python 2",
   "language": "python",
   "name": "python2"
  },
  "language_info": {
   "codemirror_mode": {
    "name": "ipython",
    "version": 2
   },
   "file_extension": ".py",
   "mimetype": "text/x-python",
   "name": "python",
   "nbconvert_exporter": "python",
   "pygments_lexer": "ipython2",
   "version": "2.7.10"
  }
 },
 "nbformat": 4,
 "nbformat_minor": 0
}
